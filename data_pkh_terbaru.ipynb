{
  "nbformat": 4,
  "nbformat_minor": 0,
  "metadata": {
    "colab": {
      "provenance": []
    },
    "kernelspec": {
      "name": "python3",
      "display_name": "Python 3"
    },
    "language_info": {
      "name": "python"
    }
  },
  "cells": [
    {
      "cell_type": "markdown",
      "source": [
        "\n",
        "## **KLASIFIKASI KELAYAKAN PENERIMAAN PKH**\n",
        "\n",
        "Program Keluarga Harapan (PKH) adalah program bantuan sosial yang diberikan kepada keluarga miskin untuk meningkatkan kesejahteraan mereka. PKH merupakan program pemberian uang tunai bersyarat yang disalurkan kepada Keluarga Penerima Manfaat (KPM).\n",
        "Tujuan PKH adalah: Mengurangi angka kemiskinan, Memutus mata rantai kemiskinan antar-generasi, Meningkatkan kualitas sumber daya manusia, Mengubah perilaku yang kurang mendukung dalam peningkatan kesejahteraan.\n",
        "PKH memberikan dukungan di berbagai sektor, seperti pendidikan, kesehatan, gizi, serta kebutuhan dasar lainnya. Peserta PKH diwajibkan melaksanakan persyaratan dan ketentuan yang telah ditetapkan, seperti kehadiran di fasilitas pendidikan atau fasilitas kesehatan."
      ],
      "metadata": {
        "id": "BhdZE2oQulii"
      }
    },
    {
      "cell_type": "code",
      "source": [
        "# Pastikan Anda menginstal pustaka yang diperlukan (jika belum)\n",
        "!pip install pandas matplotlib"
      ],
      "metadata": {
        "colab": {
          "base_uri": "https://localhost:8080/"
        },
        "id": "E31bvkgKJpdC",
        "outputId": "f937d8f7-7f9b-4387-c40a-16df54d3f34d"
      },
      "execution_count": 6,
      "outputs": [
        {
          "output_type": "stream",
          "name": "stdout",
          "text": [
            "Requirement already satisfied: pandas in /usr/local/lib/python3.10/dist-packages (2.2.2)\n",
            "Requirement already satisfied: matplotlib in /usr/local/lib/python3.10/dist-packages (3.7.1)\n",
            "Requirement already satisfied: numpy>=1.22.4 in /usr/local/lib/python3.10/dist-packages (from pandas) (1.26.4)\n",
            "Requirement already satisfied: python-dateutil>=2.8.2 in /usr/local/lib/python3.10/dist-packages (from pandas) (2.8.2)\n",
            "Requirement already satisfied: pytz>=2020.1 in /usr/local/lib/python3.10/dist-packages (from pandas) (2024.2)\n",
            "Requirement already satisfied: tzdata>=2022.7 in /usr/local/lib/python3.10/dist-packages (from pandas) (2024.2)\n",
            "Requirement already satisfied: contourpy>=1.0.1 in /usr/local/lib/python3.10/dist-packages (from matplotlib) (1.3.0)\n",
            "Requirement already satisfied: cycler>=0.10 in /usr/local/lib/python3.10/dist-packages (from matplotlib) (0.12.1)\n",
            "Requirement already satisfied: fonttools>=4.22.0 in /usr/local/lib/python3.10/dist-packages (from matplotlib) (4.54.1)\n",
            "Requirement already satisfied: kiwisolver>=1.0.1 in /usr/local/lib/python3.10/dist-packages (from matplotlib) (1.4.7)\n",
            "Requirement already satisfied: packaging>=20.0 in /usr/local/lib/python3.10/dist-packages (from matplotlib) (24.1)\n",
            "Requirement already satisfied: pillow>=6.2.0 in /usr/local/lib/python3.10/dist-packages (from matplotlib) (10.4.0)\n",
            "Requirement already satisfied: pyparsing>=2.3.1 in /usr/local/lib/python3.10/dist-packages (from matplotlib) (3.2.0)\n",
            "Requirement already satisfied: six>=1.5 in /usr/local/lib/python3.10/dist-packages (from python-dateutil>=2.8.2->pandas) (1.16.0)\n"
          ]
        }
      ]
    },
    {
      "cell_type": "markdown",
      "source": [
        "Library ini digunakan untuk komputasi ilmiah. NumPy menyediakan array multidimensi yang efisien serta berbagai fungsi matematis tingkat lanju\n",
        "\n",
        "pandas adalah library yang digunakan untuk manipulasi data, terutama dalam bentuk DataFrame dan Series. Ini memudahkan pemrosesan data seperti membaca file CSV, membersihkan data, dan analisis data."
      ],
      "metadata": {
        "id": "7szpOuegtX8j"
      }
    },
    {
      "cell_type": "code",
      "execution_count": 7,
      "metadata": {
        "id": "kv0hK1tHBZNO"
      },
      "outputs": [],
      "source": [
        "#library\n",
        "\n",
        "import numpy as np\n",
        "import pandas as pd"
      ]
    },
    {
      "cell_type": "markdown",
      "source": [
        "from google.colab import drive:\n",
        "Baris ini mengimpor modul drive dari library google.colab, yang memungkinkan integrasi Google Colab dengan Google Drive.\n",
        "\n",
        "drive.mount('/content/drive'):\n",
        "Ini adalah perintah untuk \"mount\" atau menghubungkan Google Drive ke lingkungan kerja Google Colab."
      ],
      "metadata": {
        "id": "G5A-iWP-uhI0"
      }
    },
    {
      "cell_type": "code",
      "source": [
        "#Panggil data drive\n",
        "from google.colab import drive\n",
        "drive.mount('/content/drive')"
      ],
      "metadata": {
        "colab": {
          "base_uri": "https://localhost:8080/"
        },
        "id": "DIbih7pDBcHu",
        "outputId": "e3391366-6654-4177-b95b-fd9d28c53cc9"
      },
      "execution_count": 8,
      "outputs": [
        {
          "output_type": "stream",
          "name": "stdout",
          "text": [
            "Mounted at /content/drive\n"
          ]
        }
      ]
    },
    {
      "cell_type": "code",
      "source": [
        "# Load the dataset\n",
        "data = pd.read_csv(\"/content/drive/MyDrive/visualisasi/data pkh2.csv\", sep=';')"
      ],
      "metadata": {
        "id": "rNi9u3HeBcVi"
      },
      "execution_count": 9,
      "outputs": []
    },
    {
      "cell_type": "code",
      "source": [
        "data.head(23)"
      ],
      "metadata": {
        "colab": {
          "base_uri": "https://localhost:8080/",
          "height": 1000
        },
        "id": "VGhbQhglCITk",
        "outputId": "e15f5e05-b239-4a5a-98d4-05713f045b63"
      },
      "execution_count": 10,
      "outputs": [
        {
          "output_type": "execute_result",
          "data": {
            "text/plain": [
              "            Nama  pendapatan       Status       umur Anak Sekolah Lansia  \\\n",
              "0      Fatmawati      550000  Tidak Mampu   48 Tahun          Ada  Tidak   \n",
              "1        Sumarni      500000  Tidak Mampu   54 Tahun          Ada  Tidak   \n",
              "2         Hajrah      500000  Tidak Mampu   50 Tahun    Tidak ada  Tidak   \n",
              "3          Ratna      500000  Tidak Mampu   45 Tahun          Ada  Tidak   \n",
              "4          Nurma      500000  Tidak Mampu   35 Tahun          Ada  Tidak   \n",
              "5       Jawariah      300000  Tidak Mampu   70 Tahun    Tidak ada     Ya   \n",
              "6        Nursani      500000  Tidak Mampu  48 T ahun          Ada  Tidak   \n",
              "7            Sri      500000  Tidak Mampu   50 Tahun          Ada  Tidak   \n",
              "8          Nurmi      500000  Tidak Mampu   30 Tahun          Ada  Tidak   \n",
              "9         Nazmah      700000  Tidak Mampu   48 Tahun          Ada  Tidak   \n",
              "10       Suryati      500000  Tidak Mampu   47 Tahun          Ada  Tidak   \n",
              "11      Mustamin      500000  Tidak Mampu   70 Tahun    Tidak ada     Ya   \n",
              "12       Kartika      500000  Tidak Mampu   35 Tahun          Ada  Tidak   \n",
              "13      Abdullah      500000  Tidak Mampu   50 Tahun    Tidak ada  Tidak   \n",
              "14      Amrullah      500000  Tidak Mampu   50 Tahun          Ada  Tidak   \n",
              "15        Masita      100000        Mampu   52 Tahun          Ada  Tidak   \n",
              "16  Siti Hadijah      120000        Mampu   60 Tahun    Tidak ada  Tidak   \n",
              "17       Nur ana      140000        Mampu   38 Tahun          Ada  Tidak   \n",
              "18  Femi Puspita      100000        Mampu   29 Tahun          Ada  Tidak   \n",
              "19    Siti Ratna      300000        Mampu   55 Tahun    TIdak ada  Tidak   \n",
              "20        Hafsah      120000        Mampu   52 Tahun    Tidak ada  Tidak   \n",
              "21   Nur faujiah      100000        Mampu   33 Tahun          Ada  Tidak   \n",
              "22        Misbah      100000        Mampu   58 Tahun    Tidak ada  Tidak   \n",
              "\n",
              "         Kelayakan  \n",
              "0         Penerima  \n",
              "1         Penerima  \n",
              "2         Penerima  \n",
              "3         Penerima  \n",
              "4         Penerima  \n",
              "5         Penerima  \n",
              "6         Penerima  \n",
              "7         Penerima  \n",
              "8         Penerima  \n",
              "9         Penerima  \n",
              "10        Penerima  \n",
              "11        Penerima  \n",
              "12        Penerima  \n",
              "13        Penerima  \n",
              "14        Penerima  \n",
              "15  Bukan penerima  \n",
              "16  Bukan penerima  \n",
              "17  Bukan penerima  \n",
              "18  Bukan penerima  \n",
              "19  Bukan penerima  \n",
              "20  Bukan penerima  \n",
              "21  Bukan penerima  \n",
              "22  Bukan penerima  "
            ],
            "text/html": [
              "\n",
              "  <div id=\"df-c6bcc612-42e6-4037-b8b8-450542e2c9ec\" class=\"colab-df-container\">\n",
              "    <div>\n",
              "<style scoped>\n",
              "    .dataframe tbody tr th:only-of-type {\n",
              "        vertical-align: middle;\n",
              "    }\n",
              "\n",
              "    .dataframe tbody tr th {\n",
              "        vertical-align: top;\n",
              "    }\n",
              "\n",
              "    .dataframe thead th {\n",
              "        text-align: right;\n",
              "    }\n",
              "</style>\n",
              "<table border=\"1\" class=\"dataframe\">\n",
              "  <thead>\n",
              "    <tr style=\"text-align: right;\">\n",
              "      <th></th>\n",
              "      <th>Nama</th>\n",
              "      <th>pendapatan</th>\n",
              "      <th>Status</th>\n",
              "      <th>umur</th>\n",
              "      <th>Anak Sekolah</th>\n",
              "      <th>Lansia</th>\n",
              "      <th>Kelayakan</th>\n",
              "    </tr>\n",
              "  </thead>\n",
              "  <tbody>\n",
              "    <tr>\n",
              "      <th>0</th>\n",
              "      <td>Fatmawati</td>\n",
              "      <td>550000</td>\n",
              "      <td>Tidak Mampu</td>\n",
              "      <td>48 Tahun</td>\n",
              "      <td>Ada</td>\n",
              "      <td>Tidak</td>\n",
              "      <td>Penerima</td>\n",
              "    </tr>\n",
              "    <tr>\n",
              "      <th>1</th>\n",
              "      <td>Sumarni</td>\n",
              "      <td>500000</td>\n",
              "      <td>Tidak Mampu</td>\n",
              "      <td>54 Tahun</td>\n",
              "      <td>Ada</td>\n",
              "      <td>Tidak</td>\n",
              "      <td>Penerima</td>\n",
              "    </tr>\n",
              "    <tr>\n",
              "      <th>2</th>\n",
              "      <td>Hajrah</td>\n",
              "      <td>500000</td>\n",
              "      <td>Tidak Mampu</td>\n",
              "      <td>50 Tahun</td>\n",
              "      <td>Tidak ada</td>\n",
              "      <td>Tidak</td>\n",
              "      <td>Penerima</td>\n",
              "    </tr>\n",
              "    <tr>\n",
              "      <th>3</th>\n",
              "      <td>Ratna</td>\n",
              "      <td>500000</td>\n",
              "      <td>Tidak Mampu</td>\n",
              "      <td>45 Tahun</td>\n",
              "      <td>Ada</td>\n",
              "      <td>Tidak</td>\n",
              "      <td>Penerima</td>\n",
              "    </tr>\n",
              "    <tr>\n",
              "      <th>4</th>\n",
              "      <td>Nurma</td>\n",
              "      <td>500000</td>\n",
              "      <td>Tidak Mampu</td>\n",
              "      <td>35 Tahun</td>\n",
              "      <td>Ada</td>\n",
              "      <td>Tidak</td>\n",
              "      <td>Penerima</td>\n",
              "    </tr>\n",
              "    <tr>\n",
              "      <th>5</th>\n",
              "      <td>Jawariah</td>\n",
              "      <td>300000</td>\n",
              "      <td>Tidak Mampu</td>\n",
              "      <td>70 Tahun</td>\n",
              "      <td>Tidak ada</td>\n",
              "      <td>Ya</td>\n",
              "      <td>Penerima</td>\n",
              "    </tr>\n",
              "    <tr>\n",
              "      <th>6</th>\n",
              "      <td>Nursani</td>\n",
              "      <td>500000</td>\n",
              "      <td>Tidak Mampu</td>\n",
              "      <td>48 T ahun</td>\n",
              "      <td>Ada</td>\n",
              "      <td>Tidak</td>\n",
              "      <td>Penerima</td>\n",
              "    </tr>\n",
              "    <tr>\n",
              "      <th>7</th>\n",
              "      <td>Sri</td>\n",
              "      <td>500000</td>\n",
              "      <td>Tidak Mampu</td>\n",
              "      <td>50 Tahun</td>\n",
              "      <td>Ada</td>\n",
              "      <td>Tidak</td>\n",
              "      <td>Penerima</td>\n",
              "    </tr>\n",
              "    <tr>\n",
              "      <th>8</th>\n",
              "      <td>Nurmi</td>\n",
              "      <td>500000</td>\n",
              "      <td>Tidak Mampu</td>\n",
              "      <td>30 Tahun</td>\n",
              "      <td>Ada</td>\n",
              "      <td>Tidak</td>\n",
              "      <td>Penerima</td>\n",
              "    </tr>\n",
              "    <tr>\n",
              "      <th>9</th>\n",
              "      <td>Nazmah</td>\n",
              "      <td>700000</td>\n",
              "      <td>Tidak Mampu</td>\n",
              "      <td>48 Tahun</td>\n",
              "      <td>Ada</td>\n",
              "      <td>Tidak</td>\n",
              "      <td>Penerima</td>\n",
              "    </tr>\n",
              "    <tr>\n",
              "      <th>10</th>\n",
              "      <td>Suryati</td>\n",
              "      <td>500000</td>\n",
              "      <td>Tidak Mampu</td>\n",
              "      <td>47 Tahun</td>\n",
              "      <td>Ada</td>\n",
              "      <td>Tidak</td>\n",
              "      <td>Penerima</td>\n",
              "    </tr>\n",
              "    <tr>\n",
              "      <th>11</th>\n",
              "      <td>Mustamin</td>\n",
              "      <td>500000</td>\n",
              "      <td>Tidak Mampu</td>\n",
              "      <td>70 Tahun</td>\n",
              "      <td>Tidak ada</td>\n",
              "      <td>Ya</td>\n",
              "      <td>Penerima</td>\n",
              "    </tr>\n",
              "    <tr>\n",
              "      <th>12</th>\n",
              "      <td>Kartika</td>\n",
              "      <td>500000</td>\n",
              "      <td>Tidak Mampu</td>\n",
              "      <td>35 Tahun</td>\n",
              "      <td>Ada</td>\n",
              "      <td>Tidak</td>\n",
              "      <td>Penerima</td>\n",
              "    </tr>\n",
              "    <tr>\n",
              "      <th>13</th>\n",
              "      <td>Abdullah</td>\n",
              "      <td>500000</td>\n",
              "      <td>Tidak Mampu</td>\n",
              "      <td>50 Tahun</td>\n",
              "      <td>Tidak ada</td>\n",
              "      <td>Tidak</td>\n",
              "      <td>Penerima</td>\n",
              "    </tr>\n",
              "    <tr>\n",
              "      <th>14</th>\n",
              "      <td>Amrullah</td>\n",
              "      <td>500000</td>\n",
              "      <td>Tidak Mampu</td>\n",
              "      <td>50 Tahun</td>\n",
              "      <td>Ada</td>\n",
              "      <td>Tidak</td>\n",
              "      <td>Penerima</td>\n",
              "    </tr>\n",
              "    <tr>\n",
              "      <th>15</th>\n",
              "      <td>Masita</td>\n",
              "      <td>100000</td>\n",
              "      <td>Mampu</td>\n",
              "      <td>52 Tahun</td>\n",
              "      <td>Ada</td>\n",
              "      <td>Tidak</td>\n",
              "      <td>Bukan penerima</td>\n",
              "    </tr>\n",
              "    <tr>\n",
              "      <th>16</th>\n",
              "      <td>Siti Hadijah</td>\n",
              "      <td>120000</td>\n",
              "      <td>Mampu</td>\n",
              "      <td>60 Tahun</td>\n",
              "      <td>Tidak ada</td>\n",
              "      <td>Tidak</td>\n",
              "      <td>Bukan penerima</td>\n",
              "    </tr>\n",
              "    <tr>\n",
              "      <th>17</th>\n",
              "      <td>Nur ana</td>\n",
              "      <td>140000</td>\n",
              "      <td>Mampu</td>\n",
              "      <td>38 Tahun</td>\n",
              "      <td>Ada</td>\n",
              "      <td>Tidak</td>\n",
              "      <td>Bukan penerima</td>\n",
              "    </tr>\n",
              "    <tr>\n",
              "      <th>18</th>\n",
              "      <td>Femi Puspita</td>\n",
              "      <td>100000</td>\n",
              "      <td>Mampu</td>\n",
              "      <td>29 Tahun</td>\n",
              "      <td>Ada</td>\n",
              "      <td>Tidak</td>\n",
              "      <td>Bukan penerima</td>\n",
              "    </tr>\n",
              "    <tr>\n",
              "      <th>19</th>\n",
              "      <td>Siti Ratna</td>\n",
              "      <td>300000</td>\n",
              "      <td>Mampu</td>\n",
              "      <td>55 Tahun</td>\n",
              "      <td>TIdak ada</td>\n",
              "      <td>Tidak</td>\n",
              "      <td>Bukan penerima</td>\n",
              "    </tr>\n",
              "    <tr>\n",
              "      <th>20</th>\n",
              "      <td>Hafsah</td>\n",
              "      <td>120000</td>\n",
              "      <td>Mampu</td>\n",
              "      <td>52 Tahun</td>\n",
              "      <td>Tidak ada</td>\n",
              "      <td>Tidak</td>\n",
              "      <td>Bukan penerima</td>\n",
              "    </tr>\n",
              "    <tr>\n",
              "      <th>21</th>\n",
              "      <td>Nur faujiah</td>\n",
              "      <td>100000</td>\n",
              "      <td>Mampu</td>\n",
              "      <td>33 Tahun</td>\n",
              "      <td>Ada</td>\n",
              "      <td>Tidak</td>\n",
              "      <td>Bukan penerima</td>\n",
              "    </tr>\n",
              "    <tr>\n",
              "      <th>22</th>\n",
              "      <td>Misbah</td>\n",
              "      <td>100000</td>\n",
              "      <td>Mampu</td>\n",
              "      <td>58 Tahun</td>\n",
              "      <td>Tidak ada</td>\n",
              "      <td>Tidak</td>\n",
              "      <td>Bukan penerima</td>\n",
              "    </tr>\n",
              "  </tbody>\n",
              "</table>\n",
              "</div>\n",
              "    <div class=\"colab-df-buttons\">\n",
              "\n",
              "  <div class=\"colab-df-container\">\n",
              "    <button class=\"colab-df-convert\" onclick=\"convertToInteractive('df-c6bcc612-42e6-4037-b8b8-450542e2c9ec')\"\n",
              "            title=\"Convert this dataframe to an interactive table.\"\n",
              "            style=\"display:none;\">\n",
              "\n",
              "  <svg xmlns=\"http://www.w3.org/2000/svg\" height=\"24px\" viewBox=\"0 -960 960 960\">\n",
              "    <path d=\"M120-120v-720h720v720H120Zm60-500h600v-160H180v160Zm220 220h160v-160H400v160Zm0 220h160v-160H400v160ZM180-400h160v-160H180v160Zm440 0h160v-160H620v160ZM180-180h160v-160H180v160Zm440 0h160v-160H620v160Z\"/>\n",
              "  </svg>\n",
              "    </button>\n",
              "\n",
              "  <style>\n",
              "    .colab-df-container {\n",
              "      display:flex;\n",
              "      gap: 12px;\n",
              "    }\n",
              "\n",
              "    .colab-df-convert {\n",
              "      background-color: #E8F0FE;\n",
              "      border: none;\n",
              "      border-radius: 50%;\n",
              "      cursor: pointer;\n",
              "      display: none;\n",
              "      fill: #1967D2;\n",
              "      height: 32px;\n",
              "      padding: 0 0 0 0;\n",
              "      width: 32px;\n",
              "    }\n",
              "\n",
              "    .colab-df-convert:hover {\n",
              "      background-color: #E2EBFA;\n",
              "      box-shadow: 0px 1px 2px rgba(60, 64, 67, 0.3), 0px 1px 3px 1px rgba(60, 64, 67, 0.15);\n",
              "      fill: #174EA6;\n",
              "    }\n",
              "\n",
              "    .colab-df-buttons div {\n",
              "      margin-bottom: 4px;\n",
              "    }\n",
              "\n",
              "    [theme=dark] .colab-df-convert {\n",
              "      background-color: #3B4455;\n",
              "      fill: #D2E3FC;\n",
              "    }\n",
              "\n",
              "    [theme=dark] .colab-df-convert:hover {\n",
              "      background-color: #434B5C;\n",
              "      box-shadow: 0px 1px 3px 1px rgba(0, 0, 0, 0.15);\n",
              "      filter: drop-shadow(0px 1px 2px rgba(0, 0, 0, 0.3));\n",
              "      fill: #FFFFFF;\n",
              "    }\n",
              "  </style>\n",
              "\n",
              "    <script>\n",
              "      const buttonEl =\n",
              "        document.querySelector('#df-c6bcc612-42e6-4037-b8b8-450542e2c9ec button.colab-df-convert');\n",
              "      buttonEl.style.display =\n",
              "        google.colab.kernel.accessAllowed ? 'block' : 'none';\n",
              "\n",
              "      async function convertToInteractive(key) {\n",
              "        const element = document.querySelector('#df-c6bcc612-42e6-4037-b8b8-450542e2c9ec');\n",
              "        const dataTable =\n",
              "          await google.colab.kernel.invokeFunction('convertToInteractive',\n",
              "                                                    [key], {});\n",
              "        if (!dataTable) return;\n",
              "\n",
              "        const docLinkHtml = 'Like what you see? Visit the ' +\n",
              "          '<a target=\"_blank\" href=https://colab.research.google.com/notebooks/data_table.ipynb>data table notebook</a>'\n",
              "          + ' to learn more about interactive tables.';\n",
              "        element.innerHTML = '';\n",
              "        dataTable['output_type'] = 'display_data';\n",
              "        await google.colab.output.renderOutput(dataTable, element);\n",
              "        const docLink = document.createElement('div');\n",
              "        docLink.innerHTML = docLinkHtml;\n",
              "        element.appendChild(docLink);\n",
              "      }\n",
              "    </script>\n",
              "  </div>\n",
              "\n",
              "\n",
              "<div id=\"df-0a351b12-2b1d-4df4-90f5-e08609fdded5\">\n",
              "  <button class=\"colab-df-quickchart\" onclick=\"quickchart('df-0a351b12-2b1d-4df4-90f5-e08609fdded5')\"\n",
              "            title=\"Suggest charts\"\n",
              "            style=\"display:none;\">\n",
              "\n",
              "<svg xmlns=\"http://www.w3.org/2000/svg\" height=\"24px\"viewBox=\"0 0 24 24\"\n",
              "     width=\"24px\">\n",
              "    <g>\n",
              "        <path d=\"M19 3H5c-1.1 0-2 .9-2 2v14c0 1.1.9 2 2 2h14c1.1 0 2-.9 2-2V5c0-1.1-.9-2-2-2zM9 17H7v-7h2v7zm4 0h-2V7h2v10zm4 0h-2v-4h2v4z\"/>\n",
              "    </g>\n",
              "</svg>\n",
              "  </button>\n",
              "\n",
              "<style>\n",
              "  .colab-df-quickchart {\n",
              "      --bg-color: #E8F0FE;\n",
              "      --fill-color: #1967D2;\n",
              "      --hover-bg-color: #E2EBFA;\n",
              "      --hover-fill-color: #174EA6;\n",
              "      --disabled-fill-color: #AAA;\n",
              "      --disabled-bg-color: #DDD;\n",
              "  }\n",
              "\n",
              "  [theme=dark] .colab-df-quickchart {\n",
              "      --bg-color: #3B4455;\n",
              "      --fill-color: #D2E3FC;\n",
              "      --hover-bg-color: #434B5C;\n",
              "      --hover-fill-color: #FFFFFF;\n",
              "      --disabled-bg-color: #3B4455;\n",
              "      --disabled-fill-color: #666;\n",
              "  }\n",
              "\n",
              "  .colab-df-quickchart {\n",
              "    background-color: var(--bg-color);\n",
              "    border: none;\n",
              "    border-radius: 50%;\n",
              "    cursor: pointer;\n",
              "    display: none;\n",
              "    fill: var(--fill-color);\n",
              "    height: 32px;\n",
              "    padding: 0;\n",
              "    width: 32px;\n",
              "  }\n",
              "\n",
              "  .colab-df-quickchart:hover {\n",
              "    background-color: var(--hover-bg-color);\n",
              "    box-shadow: 0 1px 2px rgba(60, 64, 67, 0.3), 0 1px 3px 1px rgba(60, 64, 67, 0.15);\n",
              "    fill: var(--button-hover-fill-color);\n",
              "  }\n",
              "\n",
              "  .colab-df-quickchart-complete:disabled,\n",
              "  .colab-df-quickchart-complete:disabled:hover {\n",
              "    background-color: var(--disabled-bg-color);\n",
              "    fill: var(--disabled-fill-color);\n",
              "    box-shadow: none;\n",
              "  }\n",
              "\n",
              "  .colab-df-spinner {\n",
              "    border: 2px solid var(--fill-color);\n",
              "    border-color: transparent;\n",
              "    border-bottom-color: var(--fill-color);\n",
              "    animation:\n",
              "      spin 1s steps(1) infinite;\n",
              "  }\n",
              "\n",
              "  @keyframes spin {\n",
              "    0% {\n",
              "      border-color: transparent;\n",
              "      border-bottom-color: var(--fill-color);\n",
              "      border-left-color: var(--fill-color);\n",
              "    }\n",
              "    20% {\n",
              "      border-color: transparent;\n",
              "      border-left-color: var(--fill-color);\n",
              "      border-top-color: var(--fill-color);\n",
              "    }\n",
              "    30% {\n",
              "      border-color: transparent;\n",
              "      border-left-color: var(--fill-color);\n",
              "      border-top-color: var(--fill-color);\n",
              "      border-right-color: var(--fill-color);\n",
              "    }\n",
              "    40% {\n",
              "      border-color: transparent;\n",
              "      border-right-color: var(--fill-color);\n",
              "      border-top-color: var(--fill-color);\n",
              "    }\n",
              "    60% {\n",
              "      border-color: transparent;\n",
              "      border-right-color: var(--fill-color);\n",
              "    }\n",
              "    80% {\n",
              "      border-color: transparent;\n",
              "      border-right-color: var(--fill-color);\n",
              "      border-bottom-color: var(--fill-color);\n",
              "    }\n",
              "    90% {\n",
              "      border-color: transparent;\n",
              "      border-bottom-color: var(--fill-color);\n",
              "    }\n",
              "  }\n",
              "</style>\n",
              "\n",
              "  <script>\n",
              "    async function quickchart(key) {\n",
              "      const quickchartButtonEl =\n",
              "        document.querySelector('#' + key + ' button');\n",
              "      quickchartButtonEl.disabled = true;  // To prevent multiple clicks.\n",
              "      quickchartButtonEl.classList.add('colab-df-spinner');\n",
              "      try {\n",
              "        const charts = await google.colab.kernel.invokeFunction(\n",
              "            'suggestCharts', [key], {});\n",
              "      } catch (error) {\n",
              "        console.error('Error during call to suggestCharts:', error);\n",
              "      }\n",
              "      quickchartButtonEl.classList.remove('colab-df-spinner');\n",
              "      quickchartButtonEl.classList.add('colab-df-quickchart-complete');\n",
              "    }\n",
              "    (() => {\n",
              "      let quickchartButtonEl =\n",
              "        document.querySelector('#df-0a351b12-2b1d-4df4-90f5-e08609fdded5 button');\n",
              "      quickchartButtonEl.style.display =\n",
              "        google.colab.kernel.accessAllowed ? 'block' : 'none';\n",
              "    })();\n",
              "  </script>\n",
              "</div>\n",
              "\n",
              "    </div>\n",
              "  </div>\n"
            ],
            "application/vnd.google.colaboratory.intrinsic+json": {
              "type": "dataframe",
              "variable_name": "data",
              "summary": "{\n  \"name\": \"data\",\n  \"rows\": 23,\n  \"fields\": [\n    {\n      \"column\": \"Nama\",\n      \"properties\": {\n        \"dtype\": \"string\",\n        \"num_unique_values\": 23,\n        \"samples\": [\n          \"Masita\",\n          \"Nazmah\",\n          \"Fatmawati\"\n        ],\n        \"semantic_type\": \"\",\n        \"description\": \"\"\n      }\n    },\n    {\n      \"column\": \"pendapatan\",\n      \"properties\": {\n        \"dtype\": \"number\",\n        \"std\": 193387,\n        \"min\": 100000,\n        \"max\": 700000,\n        \"num_unique_values\": 7,\n        \"samples\": [\n          550000,\n          500000,\n          120000\n        ],\n        \"semantic_type\": \"\",\n        \"description\": \"\"\n      }\n    },\n    {\n      \"column\": \"Status\",\n      \"properties\": {\n        \"dtype\": \"category\",\n        \"num_unique_values\": 2,\n        \"samples\": [\n          \"Mampu\",\n          \"Tidak Mampu\"\n        ],\n        \"semantic_type\": \"\",\n        \"description\": \"\"\n      }\n    },\n    {\n      \"column\": \"umur\",\n      \"properties\": {\n        \"dtype\": \"string\",\n        \"num_unique_values\": 16,\n        \"samples\": [\n          \"48 Tahun\",\n          \"54 Tahun\"\n        ],\n        \"semantic_type\": \"\",\n        \"description\": \"\"\n      }\n    },\n    {\n      \"column\": \"Anak Sekolah\",\n      \"properties\": {\n        \"dtype\": \"category\",\n        \"num_unique_values\": 3,\n        \"samples\": [\n          \"Ada\",\n          \"Tidak ada\"\n        ],\n        \"semantic_type\": \"\",\n        \"description\": \"\"\n      }\n    },\n    {\n      \"column\": \"Lansia\",\n      \"properties\": {\n        \"dtype\": \"category\",\n        \"num_unique_values\": 2,\n        \"samples\": [\n          \"Ya\",\n          \"Tidak\"\n        ],\n        \"semantic_type\": \"\",\n        \"description\": \"\"\n      }\n    },\n    {\n      \"column\": \"Kelayakan\",\n      \"properties\": {\n        \"dtype\": \"category\",\n        \"num_unique_values\": 2,\n        \"samples\": [\n          \"Bukan penerima\",\n          \"Penerima\"\n        ],\n        \"semantic_type\": \"\",\n        \"description\": \"\"\n      }\n    }\n  ]\n}"
            }
          },
          "metadata": {},
          "execution_count": 10
        }
      ]
    },
    {
      "cell_type": "code",
      "source": [
        "# Periksa nama kolom yang ada dalam DataFrame\n",
        "print(df.columns)"
      ],
      "metadata": {
        "colab": {
          "base_uri": "https://localhost:8080/"
        },
        "id": "al4o7zuyIbLK",
        "outputId": "4a4cd468-efa9-4b32-ab45-d0fb486fb090"
      },
      "execution_count": 11,
      "outputs": [
        {
          "output_type": "stream",
          "name": "stdout",
          "text": [
            "Index(['Nama', 'Pendapatan'], dtype='object')\n"
          ]
        }
      ]
    },
    {
      "cell_type": "code",
      "source": [
        "# Hilangkan spasi di sekitar nama kolom (jika ada)\n",
        "df.columns = df.columns.str.strip()"
      ],
      "metadata": {
        "id": "raqZbHMCHl2R"
      },
      "execution_count": 12,
      "outputs": []
    },
    {
      "cell_type": "code",
      "source": [
        "print(data.columns.tolist())"
      ],
      "metadata": {
        "colab": {
          "base_uri": "https://localhost:8080/"
        },
        "id": "U_3IpX0ADFcO",
        "outputId": "fd50b8d9-56b0-49f7-e8aa-b869a62b90f1"
      },
      "execution_count": 13,
      "outputs": [
        {
          "output_type": "stream",
          "name": "stdout",
          "text": [
            "['Nama', 'pendapatan', 'Status', 'umur', 'Anak Sekolah', 'Lansia', 'Kelayakan']\n"
          ]
        }
      ]
    },
    {
      "cell_type": "code",
      "source": [
        "#Hilangkan spasi ekstra dengan\n",
        "df.columns.str.strip()"
      ],
      "metadata": {
        "colab": {
          "base_uri": "https://localhost:8080/"
        },
        "id": "J11g4B1KHJjG",
        "outputId": "8b7f3eac-b8f4-4667-aff0-c9a9b6caa961"
      },
      "execution_count": 14,
      "outputs": [
        {
          "output_type": "execute_result",
          "data": {
            "text/plain": [
              "Index(['Nama', 'Pendapatan'], dtype='object')"
            ]
          },
          "metadata": {},
          "execution_count": 14
        }
      ]
    },
    {
      "cell_type": "code",
      "source": [
        "# Memeriksa panjang setiap kolom\n",
        "lengths = {key: len(value) for key, value in data.items()}\n",
        "print(\"Panjang setiap kolom:\", lengths)"
      ],
      "metadata": {
        "colab": {
          "base_uri": "https://localhost:8080/"
        },
        "id": "qq6nngi0O0Tf",
        "outputId": "c8565871-fed2-4dd8-e928-fdf5f22f5f4f"
      },
      "execution_count": 15,
      "outputs": [
        {
          "output_type": "stream",
          "name": "stdout",
          "text": [
            "Panjang setiap kolom: {'Nama': 23, 'pendapatan': 23, 'Status': 23, 'umur': 23, 'Anak Sekolah': 23, 'Lansia': 23, 'Kelayakan': 23}\n"
          ]
        }
      ]
    },
    {
      "cell_type": "code",
      "source": [
        "# Import libraries\n",
        "import pandas as pd\n",
        "import matplotlib.pyplot as plt"
      ],
      "metadata": {
        "id": "cMAnijvtEFrZ"
      },
      "execution_count": 16,
      "outputs": []
    },
    {
      "cell_type": "code",
      "source": [
        "# Membuat dataframe\n",
        "df = pd.DataFrame(data)\n",
        "\n",
        "# Plot data: Jumlah orang berdasarkan Kelayakan (Penerima/Bukan penerima)\n",
        "plt.figure(figsize=(8, 6))\n",
        "df['Kelayakan'].value_counts().plot(kind='bar', color=['green', 'red'])\n",
        "plt.title('Jumlah Orang Berdasarkan Kelayakan')\n",
        "plt.xlabel('Kelayakan')\n",
        "plt.ylabel('Jumlah')\n",
        "plt.xticks(rotation=0)\n",
        "plt.show()"
      ],
      "metadata": {
        "colab": {
          "base_uri": "https://localhost:8080/",
          "height": 531
        },
        "id": "zMg8mwbRCqhB",
        "outputId": "15ce1844-d661-4d84-91d9-7da6538abd26"
      },
      "execution_count": 17,
      "outputs": [
        {
          "output_type": "display_data",
          "data": {
            "text/plain": [
              "<Figure size 800x600 with 1 Axes>"
            ],
            "image/png": "[encoded data removed]"
          },
          "metadata": {}
        }
      ]
    },
    {
      "cell_type": "code",
      "source": [
        "# Menghitung jumlah penerima dan bukan penerima berdasarkan status\n",
        "summary = df.groupby(['Status', 'Kelayakan']).size().unstack(fill_value=0)\n",
        "\n",
        "# Plot\n",
        "plt.figure(figsize=(10, 6))\n",
        "summary.plot(kind='bar', stacked=True, color=['lightblue', 'lightcoral'], edgecolor='black')\n",
        "\n",
        "# Menambahkan label dan judul\n",
        "plt.title('Jumlah Penerima dan Bukan Penerima Berdasarkan Status')\n",
        "plt.xlabel('Status')\n",
        "plt.ylabel('Jumlah')\n",
        "plt.xticks(rotation=0)  # Mengatur rotasi label pada sumbu x\n",
        "plt.legend(title='Kelayakan', loc='upper right')\n",
        "\n",
        "# Tampilkan plot\n",
        "plt.grid(axis='y', linestyle='--', alpha=0.7)\n",
        "plt.show()\n"
      ],
      "metadata": {
        "colab": {
          "base_uri": "https://localhost:8080/",
          "height": 489
        },
        "id": "c9IWuEGMMV5w",
        "outputId": "4c97b254-0507-4820-d0c6-0fdbdb8891e7"
      },
      "execution_count": 18,
      "outputs": [
        {
          "output_type": "display_data",
          "data": {
            "text/plain": [
              "<Figure size 1000x600 with 0 Axes>"
            ]
          },
          "metadata": {}
        },
        {
          "output_type": "display_data",
          "data": {
            "text/plain": [
              "<Figure size 640x480 with 1 Axes>"
            ],
            "image/png": "[encoded data removed]"
          },
          "metadata": {}
        }
      ]
    },
    {
      "cell_type": "code",
      "source": [
        "# Step 1: Import the necessary libraries\n",
        "import pandas as pd\n",
        "import seaborn as sns\n",
        "import matplotlib.pyplot as plt\n",
        "\n"
      ],
      "metadata": {
        "id": "qFnM6w56EVXU"
      },
      "execution_count": 19,
      "outputs": []
    },
    {
      "cell_type": "code",
      "source": [
        "# Create a bar plot to visualize Pendapatan distribution\n",
        "plt.figure(figsize=(12, 6))\n",
        "sns.barplot(x='Nama', y='Pendapatan', data=df, palette='viridis')\n",
        "plt.xticks(rotation=90)\n",
        "plt.title('Pendapatan per Nama', fontsize=14)\n",
        "plt.xlabel('Nama', fontsize=12)\n",
        "plt.ylabel('Pendapatan', fontsize=12)\n",
        "plt.show()\n"
      ],
      "metadata": {
        "colab": {
          "base_uri": "https://localhost:8080/",
          "height": 525
        },
        "id": "Kw8aszMPKiZr",
        "outputId": "7a9ee2c6-4695-4820-8f29-5b4acfff3c54"
      },
      "execution_count": 31,
      "outputs": [
        {
          "output_type": "stream",
          "name": "stderr",
          "text": [
            "<ipython-input-31-f01c9041df1f>:3: FutureWarning: \n",
            "\n",
            "Passing `palette` without assigning `hue` is deprecated and will be removed in v0.14.0. Assign the `x` variable to `hue` and set `legend=False` for the same effect.\n",
            "\n",
            "  sns.barplot(x='Nama', y='Pendapatan', data=df, palette='viridis')\n"
          ]
        },
        {
          "output_type": "display_data",
          "data": {
            "text/plain": [
              "<Figure size 1200x600 with 1 Axes>"
            ],
            "image/png": "[encoded data removed]"
          },
          "metadata": {}
        }
      ]
    },
    {
      "cell_type": "code",
      "source": [
        "import pandas as pd\n",
        "import seaborn as sns\n",
        "import matplotlib.pyplot as plt\n",
        "\n",
        "# Data yang diperbaiki termasuk usia\n",
        "data = {\n",
        "    \"Nama\": [\"Fatmawati\", \"Sumarni\", \"Hajrah\", \"Ratna\", \"Nurma\", \"Jawariah\", \"Nursani\",\n",
        "             \"Sri\", \"Nurmi\", \"Nazmah\", \"Suryati\", \"Mustamin\", \"Kartika\", \"Abdullah\",\n",
        "             \"Amrullah\", \"Masita\", \"Siti Hadijah\", \"Nur Ana\", \"Femi Puspita\",\n",
        "             \"Siti Ratna\", \"Hafsah\", \"Nur Faujiah\", \"Misbah\"],\n",
        "    \"Pendapatan\": [550000, 500000, 500000, 500000, 500000, 300000, 500000, 500000,\n",
        "                   500000, 700000, 500000, 500000, 500000, 500000, 500000, 1000000,\n",
        "                   1200000, 1400000, 1000000, 3000000, 1200000, 1000000, 1000000],\n",
        "    \"Umur\": [48, 54, 50, 45, 35, 70, 48, 50, 30, 48, 47, 70, 35, 50, 50, 52, 60, 38, 29, 55, 52, 33, 58]\n",
        "}\n",
        "\n",
        "# Membuat DataFrame\n",
        "df = pd.DataFrame(data)\n",
        "\n",
        "# Menghitung korelasi antara Pendapatan dan Umur\n",
        "correlation = df[\"Pendapatan\"].corr(df[\"Umur\"])\n",
        "print(f\"Korelasi antara Pendapatan dan Umur: {correlation}\")\n",
        "\n",
        "# Membuat scatter plot untuk visualisasi\n",
        "plt.figure(figsize=(10, 6))\n",
        "sns.scatterplot(x='Umur', y='Pendapatan', data=df, color=\"blue\", s=100)\n",
        "plt.title('Hubungan antara Pendapatan dan Umur', fontsize=14)\n",
        "plt.xlabel('Umur', fontsize=12)\n",
        "plt.ylabel('Pendapatan', fontsize=12)\n",
        "plt.show()\n"
      ],
      "metadata": {
        "colab": {
          "base_uri": "https://localhost:8080/",
          "height": 453
        },
        "id": "xVVKOtGVw_PJ",
        "outputId": "292ca3c7-fdd7-4387-a788-7957421743f9"
      },
      "execution_count": 44,
      "outputs": [
        {
          "output_type": "stream",
          "name": "stdout",
          "text": [
            "Korelasi antara Pendapatan dan Umur: 0.031850362028627156\n"
          ]
        },
        {
          "output_type": "display_data",
          "data": {
            "text/plain": [
              "<Figure size 1000x600 with 1 Axes>"
            ],
            "image/png": "[encoded data removed]"
          },
          "metadata": {}
        }
      ]
    },
    {
      "cell_type": "code",
      "source": [
        "import pandas as pd\n",
        "import seaborn as sns\n",
        "import matplotlib.pyplot as plt\n",
        "\n",
        "# Data\n",
        "data = {\n",
        "    \"Nama\": [\"Fatmawati\", \"Sumarni\", \"Hajrah\", \"Ratna\", \"Nurma\", \"Jawariah\", \"Nursani\",\n",
        "             \"Sri\", \"Nurmi\", \"Nazmah\", \"Suryati\", \"Mustamin\", \"Kartika\", \"Abdullah\",\n",
        "             \"Amrullah\", \"Masita\", \"Siti Hadijah\", \"Nur Ana\", \"Femi Puspita\",\n",
        "             \"Siti Ratna\", \"Hafsah\", \"Nur Faujiah\", \"Misbah\"],\n",
        "    \"Pendapatan\": [550000, 500000, 500000, 500000, 500000, 300000, 500000, 500000,\n",
        "                   500000, 700000, 500000, 500000, 500000, 500000, 500000, 1000000,\n",
        "                   1200000, 1400000, 1000000, 3000000, 1200000, 1000000, 1000000],\n",
        "    \"Status\": [\"Tidak Mampu\", \"Tidak Mampu\", \"Tidak Mampu\", \"Tidak Mampu\", \"Tidak Mampu\",\n",
        "               \"Tidak Mampu\", \"Tidak Mampu\", \"Tidak Mampu\", \"Tidak Mampu\", \"Tidak Mampu\",\n",
        "               \"Tidak Mampu\", \"Tidak Mampu\", \"Tidak Mampu\", \"Tidak Mampu\", \"Tidak Mampu\",\n",
        "               \"Mampu\", \"Mampu\", \"Mampu\", \"Mampu\", \"Mampu\", \"Mampu\", \"Mampu\", \"Mampu\"]\n",
        "}\n",
        "\n",
        "# Membuat DataFrame\n",
        "df = pd.DataFrame(data)\n",
        "\n",
        "# Membuat boxplot untuk menampilkan pendapatan berdasarkan status\n",
        "plt.figure(figsize=(12, 6))\n",
        "sns.boxplot(x='Status', y='Pendapatan', data=df, palette='pastel')\n",
        "plt.title('Distribusi Pendapatan berdasarkan Status', fontsize=14)\n",
        "plt.xlabel('Status', fontsize=12)\n",
        "plt.ylabel('Pendapatan', fontsize=12)\n",
        "plt.show()\n"
      ],
      "metadata": {
        "colab": {
          "base_uri": "https://localhost:8080/",
          "height": 478
        },
        "id": "rrS0THfU3en7",
        "outputId": "e802955c-f6dd-44fa-cb48-e1b22cbbac51"
      },
      "execution_count": 46,
      "outputs": [
        {
          "output_type": "stream",
          "name": "stderr",
          "text": [
            "<ipython-input-46-53fa4fb59121>:25: FutureWarning: \n",
            "\n",
            "Passing `palette` without assigning `hue` is deprecated and will be removed in v0.14.0. Assign the `x` variable to `hue` and set `legend=False` for the same effect.\n",
            "\n",
            "  sns.boxplot(x='Status', y='Pendapatan', data=df, palette='pastel')\n"
          ]
        },
        {
          "output_type": "display_data",
          "data": {
            "text/plain": [
              "<Figure size 1200x600 with 1 Axes>"
            ],
            "image/png": "[encoded data removed]"
          },
          "metadata": {}
        }
      ]
    }
  ]
}